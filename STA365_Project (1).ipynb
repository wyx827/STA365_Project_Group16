{
  "cells": [
    {
      "cell_type": "code",
      "execution_count": 3,
      "metadata": {
        "id": "-fB471Z0dc6d"
      },
      "outputs": [],
      "source": [
        "%matplotlib inline\n",
        "import numpy as np\n",
        "import pandas as pd\n",
        "import matplotlib.pyplot as plt\n",
        "import seaborn as sns\n",
        "import warnings\n",
        "import seaborn as sns\n",
        "warnings.simplefilter(\"ignore\")"
      ]
    },
    {
      "cell_type": "code",
      "execution_count": 1,
      "metadata": {
        "colab": {
          "base_uri": "https://localhost:8080/",
          "height": 846
        },
        "id": "sGYTK-dxvi9p",
        "outputId": "b14cfae7-36a2-48fe-b4d7-71d5f1a690bb"
      },
      "outputs": [
        {
          "output_type": "stream",
          "name": "stdout",
          "text": [
            "Found existing installation: Keras 2.2.4\n",
            "Uninstalling Keras-2.2.4:\n",
            "  Would remove:\n",
            "    /usr/local/lib/python3.10/dist-packages/Keras-2.2.4.dist-info/*\n",
            "    /usr/local/lib/python3.10/dist-packages/docs/*\n",
            "    /usr/local/lib/python3.10/dist-packages/keras/*\n",
            "  Would not remove (might be manually added):\n",
            "    /usr/local/lib/python3.10/dist-packages/docs/conf.py\n",
            "Proceed (Y/n)? \u001b[31mERROR: Operation cancelled by user\u001b[0m\u001b[31m\n",
            "\u001b[0mRequirement already satisfied: keras==2.2.4 in /usr/local/lib/python3.10/dist-packages (2.2.4)\n",
            "Requirement already satisfied: numpy>=1.9.1 in /usr/local/lib/python3.10/dist-packages (from keras==2.2.4) (1.25.2)\n",
            "Requirement already satisfied: scipy>=0.14 in /usr/local/lib/python3.10/dist-packages (from keras==2.2.4) (1.11.4)\n",
            "Requirement already satisfied: six>=1.9.0 in /usr/local/lib/python3.10/dist-packages (from keras==2.2.4) (1.16.0)\n",
            "Requirement already satisfied: pyyaml in /usr/local/lib/python3.10/dist-packages (from keras==2.2.4) (6.0.1)\n",
            "Requirement already satisfied: h5py in /usr/local/lib/python3.10/dist-packages (from keras==2.2.4) (3.9.0)\n",
            "Requirement already satisfied: keras-applications>=1.0.6 in /usr/local/lib/python3.10/dist-packages (from keras==2.2.4) (1.0.8)\n",
            "Requirement already satisfied: keras-preprocessing>=1.0.5 in /usr/local/lib/python3.10/dist-packages (from keras==2.2.4) (1.1.2)\n"
          ]
        },
        {
          "output_type": "stream",
          "name": "stderr",
          "text": [
            "Using Theano backend.\n"
          ]
        },
        {
          "output_type": "error",
          "ename": "ModuleNotFoundError",
          "evalue": "No module named 'theano'",
          "traceback": [
            "\u001b[0;31m---------------------------------------------------------------------------\u001b[0m",
            "\u001b[0;31mModuleNotFoundError\u001b[0m                       Traceback (most recent call last)",
            "\u001b[0;32m<ipython-input-1-fc88bc127bcc>\u001b[0m in \u001b[0;36m<cell line: 7>\u001b[0;34m()\u001b[0m\n\u001b[1;32m      5\u001b[0m \u001b[0;34m\u001b[0m\u001b[0m\n\u001b[1;32m      6\u001b[0m \u001b[0mos\u001b[0m\u001b[0;34m.\u001b[0m\u001b[0menviron\u001b[0m\u001b[0;34m[\u001b[0m\u001b[0;34m\"KERAS_BACKEND\"\u001b[0m\u001b[0;34m]\u001b[0m \u001b[0;34m=\u001b[0m \u001b[0;34m\"theano\"\u001b[0m\u001b[0;34m\u001b[0m\u001b[0;34m\u001b[0m\u001b[0m\n\u001b[0;32m----> 7\u001b[0;31m \u001b[0;32mimport\u001b[0m \u001b[0mkeras\u001b[0m\u001b[0;34m.\u001b[0m\u001b[0mbackend\u001b[0m\u001b[0;34m\u001b[0m\u001b[0;34m\u001b[0m\u001b[0m\n\u001b[0m\u001b[1;32m      8\u001b[0m \u001b[0mkeras\u001b[0m\u001b[0;34m.\u001b[0m\u001b[0mbackend\u001b[0m\u001b[0;34m.\u001b[0m\u001b[0mset_image_dim_ordering\u001b[0m\u001b[0;34m(\u001b[0m\u001b[0;34m'th'\u001b[0m\u001b[0;34m)\u001b[0m\u001b[0;34m\u001b[0m\u001b[0;34m\u001b[0m\u001b[0m\n",
            "\u001b[0;32m/usr/local/lib/python3.10/dist-packages/keras/__init__.py\u001b[0m in \u001b[0;36m<module>\u001b[0;34m\u001b[0m\n\u001b[1;32m      1\u001b[0m \u001b[0;32mfrom\u001b[0m \u001b[0m__future__\u001b[0m \u001b[0;32mimport\u001b[0m \u001b[0mabsolute_import\u001b[0m\u001b[0;34m\u001b[0m\u001b[0;34m\u001b[0m\u001b[0m\n\u001b[1;32m      2\u001b[0m \u001b[0;34m\u001b[0m\u001b[0m\n\u001b[0;32m----> 3\u001b[0;31m \u001b[0;32mfrom\u001b[0m \u001b[0;34m.\u001b[0m \u001b[0;32mimport\u001b[0m \u001b[0mutils\u001b[0m\u001b[0;34m\u001b[0m\u001b[0;34m\u001b[0m\u001b[0m\n\u001b[0m\u001b[1;32m      4\u001b[0m \u001b[0;32mfrom\u001b[0m \u001b[0;34m.\u001b[0m \u001b[0;32mimport\u001b[0m \u001b[0mactivations\u001b[0m\u001b[0;34m\u001b[0m\u001b[0;34m\u001b[0m\u001b[0m\n\u001b[1;32m      5\u001b[0m \u001b[0;32mfrom\u001b[0m \u001b[0;34m.\u001b[0m \u001b[0;32mimport\u001b[0m \u001b[0mapplications\u001b[0m\u001b[0;34m\u001b[0m\u001b[0;34m\u001b[0m\u001b[0m\n",
            "\u001b[0;32m/usr/local/lib/python3.10/dist-packages/keras/utils/__init__.py\u001b[0m in \u001b[0;36m<module>\u001b[0;34m\u001b[0m\n\u001b[1;32m      4\u001b[0m \u001b[0;32mfrom\u001b[0m \u001b[0;34m.\u001b[0m \u001b[0;32mimport\u001b[0m \u001b[0mdata_utils\u001b[0m\u001b[0;34m\u001b[0m\u001b[0;34m\u001b[0m\u001b[0m\n\u001b[1;32m      5\u001b[0m \u001b[0;32mfrom\u001b[0m \u001b[0;34m.\u001b[0m \u001b[0;32mimport\u001b[0m \u001b[0mio_utils\u001b[0m\u001b[0;34m\u001b[0m\u001b[0;34m\u001b[0m\u001b[0m\n\u001b[0;32m----> 6\u001b[0;31m \u001b[0;32mfrom\u001b[0m \u001b[0;34m.\u001b[0m \u001b[0;32mimport\u001b[0m \u001b[0mconv_utils\u001b[0m\u001b[0;34m\u001b[0m\u001b[0;34m\u001b[0m\u001b[0m\n\u001b[0m\u001b[1;32m      7\u001b[0m \u001b[0;34m\u001b[0m\u001b[0m\n\u001b[1;32m      8\u001b[0m \u001b[0;31m# Globally-importable utils.\u001b[0m\u001b[0;34m\u001b[0m\u001b[0;34m\u001b[0m\u001b[0m\n",
            "\u001b[0;32m/usr/local/lib/python3.10/dist-packages/keras/utils/conv_utils.py\u001b[0m in \u001b[0;36m<module>\u001b[0;34m\u001b[0m\n\u001b[1;32m      7\u001b[0m \u001b[0;32mfrom\u001b[0m \u001b[0msix\u001b[0m\u001b[0;34m.\u001b[0m\u001b[0mmoves\u001b[0m \u001b[0;32mimport\u001b[0m \u001b[0mrange\u001b[0m\u001b[0;34m\u001b[0m\u001b[0;34m\u001b[0m\u001b[0m\n\u001b[1;32m      8\u001b[0m \u001b[0;32mimport\u001b[0m \u001b[0mnumpy\u001b[0m \u001b[0;32mas\u001b[0m \u001b[0mnp\u001b[0m\u001b[0;34m\u001b[0m\u001b[0;34m\u001b[0m\u001b[0m\n\u001b[0;32m----> 9\u001b[0;31m \u001b[0;32mfrom\u001b[0m \u001b[0;34m.\u001b[0m\u001b[0;34m.\u001b[0m \u001b[0;32mimport\u001b[0m \u001b[0mbackend\u001b[0m \u001b[0;32mas\u001b[0m \u001b[0mK\u001b[0m\u001b[0;34m\u001b[0m\u001b[0;34m\u001b[0m\u001b[0m\n\u001b[0m\u001b[1;32m     10\u001b[0m \u001b[0;34m\u001b[0m\u001b[0m\n\u001b[1;32m     11\u001b[0m \u001b[0;34m\u001b[0m\u001b[0m\n",
            "\u001b[0;32m/usr/local/lib/python3.10/dist-packages/keras/backend/__init__.py\u001b[0m in \u001b[0;36m<module>\u001b[0;34m\u001b[0m\n\u001b[1;32m     84\u001b[0m \u001b[0;32melif\u001b[0m \u001b[0m_BACKEND\u001b[0m \u001b[0;34m==\u001b[0m \u001b[0;34m'theano'\u001b[0m\u001b[0;34m:\u001b[0m\u001b[0;34m\u001b[0m\u001b[0;34m\u001b[0m\u001b[0m\n\u001b[1;32m     85\u001b[0m     \u001b[0msys\u001b[0m\u001b[0;34m.\u001b[0m\u001b[0mstderr\u001b[0m\u001b[0;34m.\u001b[0m\u001b[0mwrite\u001b[0m\u001b[0;34m(\u001b[0m\u001b[0;34m'Using Theano backend.\\n'\u001b[0m\u001b[0;34m)\u001b[0m\u001b[0;34m\u001b[0m\u001b[0;34m\u001b[0m\u001b[0m\n\u001b[0;32m---> 86\u001b[0;31m     \u001b[0;32mfrom\u001b[0m \u001b[0;34m.\u001b[0m\u001b[0mtheano_backend\u001b[0m \u001b[0;32mimport\u001b[0m \u001b[0;34m*\u001b[0m\u001b[0;34m\u001b[0m\u001b[0;34m\u001b[0m\u001b[0m\n\u001b[0m\u001b[1;32m     87\u001b[0m \u001b[0;32melif\u001b[0m \u001b[0m_BACKEND\u001b[0m \u001b[0;34m==\u001b[0m \u001b[0;34m'tensorflow'\u001b[0m\u001b[0;34m:\u001b[0m\u001b[0;34m\u001b[0m\u001b[0;34m\u001b[0m\u001b[0m\n\u001b[1;32m     88\u001b[0m     \u001b[0msys\u001b[0m\u001b[0;34m.\u001b[0m\u001b[0mstderr\u001b[0m\u001b[0;34m.\u001b[0m\u001b[0mwrite\u001b[0m\u001b[0;34m(\u001b[0m\u001b[0;34m'Using TensorFlow backend.\\n'\u001b[0m\u001b[0;34m)\u001b[0m\u001b[0;34m\u001b[0m\u001b[0;34m\u001b[0m\u001b[0m\n",
            "\u001b[0;32m/usr/local/lib/python3.10/dist-packages/keras/backend/theano_backend.py\u001b[0m in \u001b[0;36m<module>\u001b[0;34m\u001b[0m\n\u001b[1;32m      5\u001b[0m \u001b[0;32mfrom\u001b[0m \u001b[0mcollections\u001b[0m \u001b[0;32mimport\u001b[0m \u001b[0mdefaultdict\u001b[0m\u001b[0;34m\u001b[0m\u001b[0;34m\u001b[0m\u001b[0m\n\u001b[1;32m      6\u001b[0m \u001b[0;32mfrom\u001b[0m \u001b[0mcontextlib\u001b[0m \u001b[0;32mimport\u001b[0m \u001b[0mcontextmanager\u001b[0m\u001b[0;34m\u001b[0m\u001b[0;34m\u001b[0m\u001b[0m\n\u001b[0;32m----> 7\u001b[0;31m \u001b[0;32mimport\u001b[0m \u001b[0mtheano\u001b[0m\u001b[0;34m\u001b[0m\u001b[0;34m\u001b[0m\u001b[0m\n\u001b[0m\u001b[1;32m      8\u001b[0m \u001b[0;32mfrom\u001b[0m \u001b[0mtheano\u001b[0m \u001b[0;32mimport\u001b[0m \u001b[0mtensor\u001b[0m \u001b[0;32mas\u001b[0m \u001b[0mT\u001b[0m\u001b[0;34m\u001b[0m\u001b[0;34m\u001b[0m\u001b[0m\n\u001b[1;32m      9\u001b[0m \u001b[0;32mfrom\u001b[0m \u001b[0mtheano\u001b[0m\u001b[0;34m.\u001b[0m\u001b[0msandbox\u001b[0m\u001b[0;34m.\u001b[0m\u001b[0mrng_mrg\u001b[0m \u001b[0;32mimport\u001b[0m \u001b[0mMRG_RandomStreams\u001b[0m \u001b[0;32mas\u001b[0m \u001b[0mRandomStreams\u001b[0m\u001b[0;34m\u001b[0m\u001b[0;34m\u001b[0m\u001b[0m\n",
            "\u001b[0;31mModuleNotFoundError\u001b[0m: No module named 'theano'",
            "",
            "\u001b[0;31m---------------------------------------------------------------------------\u001b[0;32m\nNOTE: If your import is failing due to a missing package, you can\nmanually install dependencies using either !pip or !apt.\n\nTo view examples of installing some common dependencies, click the\n\"Open Examples\" button below.\n\u001b[0;31m---------------------------------------------------------------------------\u001b[0m\n"
          ],
          "errorDetails": {
            "actions": [
              {
                "action": "open_url",
                "actionText": "Open Examples",
                "url": "/notebooks/snippets/importing_libraries.ipynb"
              }
            ]
          }
        }
      ],
      "source": [
        "!pip uninstall keras\n",
        "!pip install keras==2.2.4\n",
        "\n",
        "import os\n",
        "\n",
        "os.environ[\"KERAS_BACKEND\"] = \"theano\"\n",
        "import keras.backend\n",
        "keras.backend.set_image_dim_ordering('th')"
      ]
    },
    {
      "cell_type": "code",
      "execution_count": null,
      "metadata": {
        "id": "Dt7hSPVW0HnY"
      },
      "outputs": [],
      "source": [
        "!pip install pandas\n",
        "!file -i '/HouseListings-Top45Cities-10292023-kaggle.csv'\n",
        "df = pd.read_csv('/HouseListings-Top45Cities-10292023-kaggle.csv', encoding='latin-1')\n",
        "df.head()"
      ]
    },
    {
      "cell_type": "code",
      "execution_count": null,
      "metadata": {
        "id": "DbRfNiZuW19u"
      },
      "outputs": [],
      "source": [
        "from google.colab import drive\n",
        "drive.mount('/content/drive')"
      ]
    },
    {
      "cell_type": "markdown",
      "metadata": {
        "id": "op2eh212zpTn"
      },
      "source": [
        "# Data Features"
      ]
    },
    {
      "cell_type": "code",
      "execution_count": null,
      "metadata": {
        "id": "YGsM89610WFf"
      },
      "outputs": [],
      "source": [
        "df.describe()\n"
      ]
    },
    {
      "cell_type": "code",
      "execution_count": null,
      "metadata": {
        "id": "5Ek1KEMD0u73"
      },
      "outputs": [],
      "source": [
        "df.info()"
      ]
    },
    {
      "cell_type": "code",
      "execution_count": null,
      "metadata": {
        "id": "zv3I0ID20y1M"
      },
      "outputs": [],
      "source": [
        "plt.figure(figsize=(12,4))\n",
        "sns.histplot(df[\"Price\"])\n",
        "\n",
        "plt.show()"
      ]
    },
    {
      "cell_type": "code",
      "execution_count": null,
      "metadata": {
        "id": "goroOe4q1jHb"
      },
      "outputs": [],
      "source": [
        "tmp_df = df.groupby(\"City\").agg({\"Price\":\"median\",\"Median_Family_Income\":\"mean\"}).sort_values(\"Price\",ascending=False)\n",
        "plt.figure(figsize=(15,30))\n",
        "\n",
        "plt.subplot(311)\n",
        "plt.xticks(rotation=90)\n",
        "sns.barplot(x=tmp_df.index, y=tmp_df[\"Price\"])\n",
        "\n",
        "plt.subplot(312)\n",
        "plt.xticks(rotation=90)\n",
        "sns.barplot(x=tmp_df.index, y=tmp_df[\"Median_Family_Income\"])\n",
        "\n",
        "plt.subplot(313)\n",
        "plt.xticks(rotation=90)\n",
        "sns.barplot(x=tmp_df.index, y=tmp_df[\"Price\"]/tmp_df[\"Median_Family_Income\"])\n",
        "plt.ylabel(\"Price/Income\")\n",
        "\n",
        "plt.show()"
      ]
    },
    {
      "cell_type": "code",
      "execution_count": null,
      "metadata": {
        "id": "WixGiW_l3hMS"
      },
      "outputs": [],
      "source": [
        "plt.figure(figsize=(12,12))\n",
        "\n",
        "plt.subplot(211)\n",
        "sns.scatterplot(x=df[\"Number_Beds\"],y=df[\"Price\"])\n",
        "\n",
        "plt.subplot(212)\n",
        "sns.scatterplot(x=df[\"Number_Baths\"],y=df[\"Price\"])\n",
        "plt.show()"
      ]
    },
    {
      "cell_type": "markdown",
      "metadata": {
        "id": "x21Si8GdfveU"
      },
      "source": [
        "we add an indicator of weather the property is an apartment or not by the number of the bedroom, properties with 3 and more bedrooms are identified as apartments."
      ]
    },
    {
      "cell_type": "code",
      "execution_count": null,
      "metadata": {
        "id": "rq9Hghdy6Gre"
      },
      "outputs": [],
      "source": [
        "df['Is_House'] = (df['Number_Beds'] >= 3).astype(int)\n",
        "df.head()"
      ]
    },
    {
      "cell_type": "code",
      "execution_count": null,
      "metadata": {
        "id": "yhjYI6ks894C"
      },
      "outputs": [],
      "source": [
        "fig, axes = plt.subplots(nrows=1, ncols=2, figsize=(14, 6))\n",
        "\n",
        "# Boxplot for Price vs. Number of Beds\n",
        "sns.boxplot(x='Number_Beds', y='Price', data=df, ax=axes[0])\n",
        "axes[0].set_title('Price Distribution by Number of Bedrooms')\n",
        "axes[0].set_xlabel('Number of Bedrooms')\n",
        "axes[0].set_ylabel('Price')\n",
        "\n",
        "# Boxplot for Price vs. Number of Baths\n",
        "sns.boxplot(x='Number_Baths', y='Price', data=df, ax=axes[1])\n",
        "axes[1].set_title('Price Distribution by Number of Bathrooms')\n",
        "axes[1].set_xlabel('Number of Bathrooms')\n",
        "axes[1].set_ylabel('Price')\n",
        "\n",
        "# Adjust layout and display the plots\n",
        "plt.tight_layout()\n",
        "plt.show()"
      ]
    },
    {
      "cell_type": "markdown",
      "metadata": {
        "id": "G_vjFNn-Z3gD"
      },
      "source": [
        "Correlation Matrix \\\\\n",
        "Prior to running a regression, we need to ensure that our independent variables are not strongly correlated with one and other. Any strong correlations amongst the independent variables may result in endogeneity and problems of multicollinearity"
      ]
    },
    {
      "cell_type": "code",
      "execution_count": null,
      "metadata": {
        "id": "hACk1wybZ7De"
      },
      "outputs": [],
      "source": [
        "# Calculate the correlation matrix\n",
        "corr_matrix = df.corr()\n",
        "\n",
        "plt.figure(figsize=(10, 8))\n",
        "sns.heatmap(corr_matrix, annot=True, fmt=\".2f\", cmap='coolwarm', square=True, linewidths=.5, cbar_kws={\"shrink\": .5})\n",
        "\n",
        "plt.title('Correlation Matrix of DataFrame Variables')\n",
        "plt.show()"
      ]
    },
    {
      "cell_type": "markdown",
      "metadata": {
        "id": "FiauRa97a6PW"
      },
      "source": [
        "Summary Statistics \\\\\n",
        "We can then proceed with describing the features of the dataset using summary statistics, such as; mean, median, mode and value counts for each of feature."
      ]
    },
    {
      "cell_type": "code",
      "execution_count": null,
      "metadata": {
        "id": "iQFGwTQKamzn"
      },
      "outputs": [],
      "source": [
        "summary_stats = df.describe()\n",
        "print(summary_stats)"
      ]
    },
    {
      "cell_type": "markdown",
      "metadata": {
        "id": "-MtuxrdljZZE"
      },
      "source": [
        "\n",
        "Histogram of response variable\\\\\n",
        "A downward trend is clearly visible\n",
        "\n"
      ]
    },
    {
      "cell_type": "code",
      "execution_count": null,
      "metadata": {
        "id": "Za0N16Icjx3Z"
      },
      "outputs": [],
      "source": [
        "# Generate a histogram of the 'Price' column\n",
        "\n",
        "plt.figure(figsize=(10, 6))\n",
        "plt.hist(df['Price'], bins=50, alpha=0.75)\n",
        "\n",
        "plt.title('Histogram of Property Prices')\n",
        "plt.xlabel('Price')\n",
        "plt.ylabel('Frequency')\n",
        "plt.grid(True)\n",
        "plt.show()"
      ]
    },
    {
      "cell_type": "markdown",
      "metadata": {
        "id": "RB2-gM0BTZ9b"
      },
      "source": [
        "# Methology\n",
        "\n",
        "\n",
        "1.   Research Question\n",
        "2.   Priors Set Up\n",
        "3.   Model Construction\n",
        "4.   Sampling\n",
        "5.   Posterior Analysis\n",
        "\n",
        "\n",
        "\n"
      ]
    },
    {
      "cell_type": "markdown",
      "metadata": {
        "id": "WuNoEU2sjf5-"
      },
      "source": [
        "# 1. Research Question:\n",
        "\n",
        "\n",
        "*   \"How does the location (city) influence the housing prices, after controlling for house-specific features such as Number_Beds, Number_Baths, and Median_Family_Income, in the top 45 cities?\"\n",
        "\n"
      ]
    },
    {
      "cell_type": "markdown",
      "metadata": {
        "id": "VFFSBKp5db1I"
      },
      "source": [
        "# 2.  Priors Set Up\n"
      ]
    },
    {
      "cell_type": "code",
      "execution_count": null,
      "metadata": {
        "id": "NA7z177cde1F"
      },
      "outputs": [],
      "source": [
        "import pymc as pm\n",
        "import pandas as pd\n",
        "\n",
        "\n",
        "city_indices = pd.Categorical(df['City']).codes\n",
        "num_cities = len(df['City'].unique())\n",
        "\n",
        "with pm.Model() as hierarchical_model:\n",
        "    # Hyperpriors for the global model parameters\n",
        "    mu_alpha = pm.Normal('mu_alpha', mu=0, sigma=10)\n",
        "    sigma_alpha = pm.HalfNormal('sigma_alpha', sigma=10)\n",
        "\n",
        "    # Assuming no prior knowledge about the impact of number of beds and baths\n",
        "    mu_beta_beds = pm.Normal('mu_beta_beds', mu=0, sigma=10)\n",
        "    sigma_beta_beds = pm.HalfNormal('sigma_beta_beds', sigma=10)\n",
        "\n",
        "    mu_beta_baths = pm.Normal('mu_beta_baths', mu=0, sigma=10)\n",
        "    sigma_beta_baths = pm.HalfNormal('sigma_beta_baths', sigma=10)\n",
        "\n",
        "    # Assuming some knowledge about the positive relation between income and housing prices\n",
        "    mu_beta_income = pm.Normal('mu_beta_income', mu=0, sigma=1)\n",
        "    sigma_beta_income = pm.HalfNormal('sigma_beta_income', sigma=1)\n",
        "\n",
        "    # Random intercepts and slopes for each city\n",
        "    alpha = pm.Normal('alpha', mu=mu_alpha, sigma=sigma_alpha, shape=num_cities)\n",
        "    beta_beds = pm.Normal('beta_beds', mu=mu_beta_beds, sigma=sigma_beta_beds, shape=num_cities)\n",
        "    beta_baths = pm.Normal('beta_baths', mu=mu_beta_baths, sigma=sigma_beta_baths, shape=num_cities)\n",
        "    beta_income = pm.Normal('beta_income', mu=mu_beta_income, sigma=sigma_beta_income, shape=num_cities)\n",
        "\n",
        "    # Model error\n",
        "    sigma_y = pm.HalfNormal('sigma_y', sigma=1)\n",
        "\n",
        "    # Expected value of outcome\n",
        "    price_est = (alpha[city_indices] +\n",
        "                 beta_beds[city_indices] * df['Number_Beds'] +\n",
        "                 beta_baths[city_indices] * df['Number_Baths'] +\n",
        "                 beta_income[city_indices] * df['Median_Family_Income'])\n",
        "\n",
        "    # Likelihood (sampling distribution) of observations\n",
        "    price_obs = pm.Normal('price_obs', mu=price_est, sigma=sigma_y, observed=df['Price'])\n",
        "\n",
        "# Model sampling\n",
        "with hierarchical_model:\n",
        "    trace = pm.sample(1000, tune=1000, target_accept=0.9)"
      ]
    },
    {
      "cell_type": "markdown",
      "metadata": {
        "id": "6lfM-2fYXNmf"
      },
      "source": [
        "# 3. Construct a Hierarchical Model\n",
        "\n"
      ]
    },
    {
      "cell_type": "code",
      "execution_count": null,
      "metadata": {
        "id": "E5yJjuQLXTmr"
      },
      "outputs": [],
      "source": [
        "import pymc3 as pm\n",
        "import pandas as pd\n",
        "import numpy as np\n",
        "import theano.tensor as tt\n",
        "\n",
        "# Create an index for each city\n",
        "city_indices = pd.Categorical(df['City']).codes\n",
        "num_cities = len(np.unique(city_indices))\n",
        "\n",
        "with pm.Model() as hierarchical_model:\n",
        "    # Hyperpriors for the global model parameters\n",
        "    mu_alpha = pm.Normal('mu_alpha', mu=0, sigma=10)\n",
        "    sigma_alpha = pm.HalfNormal('sigma_alpha', sigma=10)\n",
        "\n",
        "    mu_beta_beds = pm.Normal('mu_beta_beds', mu=0, sigma=10)\n",
        "    sigma_beta_beds = pm.HalfNormal('sigma_beta_beds', sigma=10)\n",
        "\n",
        "    mu_beta_baths = pm.Normal('mu_beta_baths', mu=0, sigma=10)\n",
        "    sigma_beta_baths = pm.HalfNormal('sigma_beta_baths', sigma=10)\n",
        "\n",
        "    mu_beta_income = pm.Normal('mu_beta_income', mu=0, sigma=1)\n",
        "    sigma_beta_income = pm.HalfNormal('sigma_beta_income', sigma=1)\n",
        "\n",
        "    # City-specific random intercepts and slopes\n",
        "    alpha = pm.Normal('alpha', mu=mu_alpha, sigma=sigma_alpha, shape=num_cities)\n",
        "    beta_beds = pm.Normal('beta_beds', mu=mu_beta_beds, sigma=sigma_beta_beds, shape=num_cities)\n",
        "    beta_baths = pm.Normal('beta_baths', mu=mu_beta_baths, sigma=sigma_beta_baths, shape=num_cities)\n",
        "    beta_income = pm.Normal('beta_income', mu=mu_beta_income, sigma=sigma_beta_income, shape=num_cities)\n",
        "\n",
        "    # Standard deviation of model error\n",
        "    sigma_y = pm.HalfNormal('sigma_y', sigma=1)\n",
        "\n",
        "    # Expected value (mean) of outcome\n",
        "    price_est = (alpha[city_indices] +\n",
        "                 beta_beds[city_indices] * df['Number_Beds'] +\n",
        "                 beta_baths[city_indices] * df['Number_Baths'] +\n",
        "                 beta_income[city_indices] * df['Median_Family_Income'])\n",
        "\n",
        "    # Data likelihood\n",
        "    price_obs = pm.Normal('price_obs', mu=price_est, sigma=sigma_y, observed=df['Price'])\n",
        "\n",
        "    # Posterior sampling\n",
        "    trace = pm.sample(1000, tune=1000, chains=4, cores=1, target_accept=0.9)\n",
        "\n",
        "# After the model has run, can do various posterior checks like\n",
        "# pm.traceplot(trace)\n",
        "# pm.summary(trace)"
      ]
    },
    {
      "cell_type": "markdown",
      "metadata": {
        "id": "g64lMtrHl22k"
      },
      "source": [
        "# 4. Sampling"
      ]
    },
    {
      "cell_type": "code",
      "execution_count": null,
      "metadata": {
        "id": "v6sUqhaEl83l"
      },
      "outputs": [],
      "source": [
        "with hierarchical_model:\n",
        "    # Sampling from the posterior distribution\n",
        "    trace = pm.sample(1000, tune=1000, chains=4, cores=1, target_accept=0.9)\n",
        "\n",
        "    # Save the trace for later analysis\n",
        "    pm.save_trace(trace, 'my_hierarchical_model_trace')"
      ]
    },
    {
      "cell_type": "markdown",
      "metadata": {
        "id": "BHD73b2cmNPf"
      },
      "source": [
        "# 5. Posterior Analysis"
      ]
    },
    {
      "cell_type": "code",
      "execution_count": null,
      "metadata": {
        "id": "RZXou-CqmRkB"
      },
      "outputs": [],
      "source": [
        "#Trace Plots\n",
        "pm.traceplot(trace)\n",
        "\n",
        "#Summary Statistics\n",
        "summary = pm.summary(trace)\n",
        "print(summary)\n",
        "\n",
        "#Posterior Predictive Checks\n",
        "posterior_preds = pm.sample_posterior_predictive(trace, model=hierarchical_model)\n",
        "\n",
        "#Convergence Diagnostics\n",
        "pm.rhat(trace)"
      ]
    },
    {
      "cell_type": "markdown",
      "metadata": {
        "id": "D2rxKIBJdhLo"
      },
      "source": [
        "# ？"
      ]
    },
    {
      "cell_type": "code",
      "execution_count": null,
      "metadata": {
        "id": "r37UvB3t7gJS"
      },
      "outputs": [],
      "source": [
        "# Define functions\n",
        "def smryMCMC_HD(codaSamples, compVal=None, saveName=None):\n",
        "    summaryInfo = pd.DataFrame()\n",
        "    mcmcMat = np.array(codaSamples, chains=True)\n",
        "    paramName = codaSamples.columns\n",
        "    for pName in paramName:\n",
        "        if pName in compVal.columns:\n",
        "            if not np.isnan(compVal[pName]):\n",
        "                summaryInfo = summaryInfo.append(summarizePost(paramSampleVec=mcmcMat[pName], compVal=float(compVal[pName])))\n",
        "            else:\n",
        "                summaryInfo = summaryInfo.append(summarizePost(paramSampleVec=mcmcMat[pName]))\n",
        "        else:\n",
        "            summaryInfo = summaryInfo.append(summarizePost(paramSampleVec=mcmcMat[pName]))\n",
        "    summaryInfo.index = paramName\n",
        "\n",
        "    if saveName is not None:\n",
        "        summaryInfo.to_csv(saveName + \"SummaryInfo.csv\")\n",
        "\n",
        "    return summaryInfo"
      ]
    },
    {
      "cell_type": "code",
      "execution_count": null,
      "metadata": {
        "id": "l-9zMdw27jf-"
      },
      "outputs": [],
      "source": [
        "def plotMCMC_HD(codaSamples, data, xName=\"x\", yName=\"y\", showCurve=False, pairsPlot=False, compVal=None, saveName=None, saveType=\"jpg\"):\n",
        "    y = data[yName]\n",
        "    x = data[xName].values\n",
        "    mcmcMat = np.array(codaSamples, chains=True)\n",
        "    chainLength = mcmcMat.shape[0]\n",
        "    zbeta0 = mcmcMat[\"zbeta0\"]\n",
        "    zbeta = mcmcMat.filter(regex=\"^zbeta$|^zbeta\\\\[\")\n",
        "    if x.ndim == 1:\n",
        "        zbeta = np.reshape(zbeta, (zbeta.shape[0], 1))\n",
        "    zVar = mcmcMat[\"zVar\"]\n",
        "    beta0 = mcmcMat[\"beta0\"]\n",
        "    beta = mcmcMat.filter(regex=\"^beta$|^beta\\\\[\")\n",
        "    if x.ndim == 1:\n",
        "        beta = np.reshape(beta, (beta.shape[0], 1))\n",
        "    tau = mcmcMat[\"tau\"]\n",
        "    pred1 = mcmcMat[\"pred[1]\"]\n",
        "    pred2 = mcmcMat[\"pred[2]\"]\n",
        "    pred3 = mcmcMat[\"pred[3]\"]\n",
        "    pred4 = mcmcMat[\"pred[4]\"]\n",
        "    pred5 = mcmcMat[\"pred[5]\"]\n",
        "\n",
        "    YcorX = np.corrcoef(y, x)[0, 1]\n",
        "    Rsq = np.dot(zbeta, np.reshape(YcorX, (1, 1)))\n",
        "\n",
        "    if pairsPlot:\n",
        "        nPtToPlot = 1000\n",
        "        plotIdx = np.floor(np.arange(0, chainLength, chainLength / nPtToPlot)).astype(int)\n",
        "        fig, axes = plt.subplots(nrows=2, ncols=3, figsize=(14, 8))\n",
        "        axes = axes.flatten()\n",
        "        for i, ax in enumerate(axes):\n",
        "            if i < zbeta.shape[1]:\n",
        "                ax.plot(mcmcMat.iloc[plotIdx, i], mcmcMat.iloc[plotIdx, i + zbeta.shape[1]], 'o', color='skyblue')\n",
        "                ax.set_xlabel(\"beta[{}]\".format(i))\n",
        "                ax.set_ylabel(\"beta[{}]\".format(i + zbeta.shape[1]))\n",
        "                ax.set_title(\"Posterior Pairs\")\n",
        "                ax.text(0.5, 0.5, \"r = {:.2f}\".format(np.corrcoef(mcmcMat.iloc[plotIdx, i], mcmcMat.iloc[plotIdx, i + zbeta.shape[1]])[0, 1]), transform=ax.transAxes)\n",
        "        if saveName is not None:\n",
        "            plt.savefig(saveName + \"PostPairs.\" + saveType)\n",
        "        plt.show()\n",
        "\n",
        "    def decideOpenGraph(panelCount, saveName, finished=False, nRow=2, nCol=3):\n",
        "        if finished:\n",
        "            if saveName is not None:\n",
        "                plt.savefig(saveName + str((panelCount - 1) // (nRow * nCol)) + \".\" + saveType)\n",
        "            panelCount = 1\n",
        "            return panelCount\n",
        "        else:\n",
        "            if panelCount % (nRow * nCol) == 1:\n",
        "                if panelCount > 1 and saveName is not None:\n",
        "                    plt.savefig(saveName + str(panelCount // (nRow * nCol)) + \".\" + saveType)\n",
        "                plt.figure(figsize=(nCol * 7.0 / 3, nRow * 2.0))\n",
        "                plt.subplots_adjust(wspace=0.4, hspace=0.4)\n",
        "            panelCount += 1\n",
        "            return panelCount"
      ]
    }
  ],
  "metadata": {
    "colab": {
      "provenance": []
    },
    "kernelspec": {
      "display_name": "Python 3",
      "name": "python3"
    },
    "language_info": {
      "name": "python"
    }
  },
  "nbformat": 4,
  "nbformat_minor": 0
}